{
 "cells": [
  {
   "cell_type": "code",
   "execution_count": 1,
   "id": "eb0dfcae",
   "metadata": {},
   "outputs": [],
   "source": [
    "#Part 1\n",
    "\n",
    "#Defining function\n",
    "def f(x):\n",
    "    return x**3 - x**2 - 1\n",
    "\n",
    "#Defining function for its derivative\n",
    "def df(x):\n",
    "    return 3*x**2 - 2*x"
   ]
  },
  {
   "cell_type": "code",
   "execution_count": 14,
   "id": "63ca50e2",
   "metadata": {},
   "outputs": [],
   "source": [
    "#Part 2\n",
    "#Defining function\n",
    "def newton(f, df, x0, epsilon=1e-6, max_iter=30):\n",
    "    '''This function finds the roots of a function using Newthon's method.\n",
    "    \n",
    "    In particular, this method involves a loop which successively approximates the values of the roots using an algorithm that depends on the function and its derivative.\n",
    "    With a higher number of iterations, the result will be closer to the true value of the root.\n",
    "    \n",
    "    Parameters\n",
    "    -----------\n",
    "    f: function\n",
    "        This is the function which Newton's method will be iterating upon.\n",
    "    df: function\n",
    "        This is the derivative of the aforementioned function which Newton's method will be iterating upon.\n",
    "    x0: number\n",
    "        This is the value of the initial guess of the root of the function.\n",
    "    epsilon: number\n",
    "        This is the precision required for an adequate root solution.\n",
    "    mater_iter: this is the maximum number of iterations that Newton's method will employ.\n",
    "        \n",
    "    Returns\n",
    "    -----------\n",
    "    xn: number\n",
    "        This is the value of the root of the function, as found from Newton's method\n",
    "    None\n",
    "        If the function is unable to determine a sufficiently accurate solution, as defined by the value of epsilon, in the maximum number of iterations, the function will return none.\n",
    "    \n",
    "    '''\n",
    "    xn=x0 #initializing value for xn\n",
    "    for n in range(0,max_iter):\n",
    "        if abs(f(xn)) < epsilon: #when root is found, print result\n",
    "            print(\"Found root in\", n, \"iterations.\")\n",
    "            return xn\n",
    "            break #exits loop once root is found\n",
    "        xn=xn - f(xn)/df(xn) #performs the recursive calculation if root is not found\n",
    "    print(\"Iteration failed\")#if number of iterations is exceeded print error message\n",
    "    return None            "
   ]
  },
  {
   "cell_type": "code",
   "execution_count": 17,
   "id": "277fd67a",
   "metadata": {},
   "outputs": [
    {
     "name": "stdout",
     "output_type": "stream",
     "text": [
      "Found root in 5 iterations.\n",
      "Found root in 9 iterations.\n",
      "Found root in 15 iterations.\n",
      "Found root in 6 iterations.\n"
     ]
    },
    {
     "data": {
      "text/plain": [
       "1.4655712318767877"
      ]
     },
     "execution_count": 17,
     "metadata": {},
     "output_type": "execute_result"
    }
   ],
   "source": [
    "#Part 3\n",
    "#Using Newton's method on the function defined in Part 1, with an initial guess of 1\n",
    "newton(f,df, 1)\n",
    "\n",
    "#Using Newton's method on the function defined in Part 1, with an initial guess of 10\n",
    "newton(f,df, 10)\n",
    "\n",
    "#Using Newton's method on the function defined in Part 1, with an initial guess of 100\n",
    "newton(f,df, 100)\n",
    "\n",
    "#We see that as the initial guess becomes further from the actual value, Newton's method requires more iterations to\n",
    "#provide an accurate result.\n",
    "\n",
    "#Using Newton's method with an epsilon value of 1*10**-8\n",
    "newton(f,df, 1, 10**-8)\n",
    "\n",
    "#Indeed, Newton's method still works when epsilon is redueced to 10**-8, and it requires 1 more iteration than previously to converge.\n",
    "\n",
    "\n"
   ]
  },
  {
   "cell_type": "code",
   "execution_count": null,
   "id": "7c56674a",
   "metadata": {},
   "outputs": [],
   "source": []
  }
 ],
 "metadata": {
  "kernelspec": {
   "display_name": "Python 3 (ipykernel)",
   "language": "python",
   "name": "python3"
  },
  "language_info": {
   "codemirror_mode": {
    "name": "ipython",
    "version": 3
   },
   "file_extension": ".py",
   "mimetype": "text/x-python",
   "name": "python",
   "nbconvert_exporter": "python",
   "pygments_lexer": "ipython3",
   "version": "3.10.2"
  }
 },
 "nbformat": 4,
 "nbformat_minor": 5
}
